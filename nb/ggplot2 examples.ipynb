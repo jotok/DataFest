{
 "cells": [
  {
   "cell_type": "code",
   "execution_count": 2,
   "metadata": {
    "collapsed": false
   },
   "outputs": [
    {
     "data": {
      "text/plain": [
       "                   mpg cyl disp    wt  qsec\n",
       "Mazda RX4         21.0   6  160 2.620 16.46\n",
       "Mazda RX4 Wag     21.0   6  160 2.875 17.02\n",
       "Datsun 710        22.8   4  108 2.320 18.61\n",
       "Hornet 4 Drive    21.4   6  258 3.215 19.44\n",
       "Hornet Sportabout 18.7   8  360 3.440 17.02\n",
       "Valiant           18.1   6  225 3.460 20.22"
      ]
     },
     "execution_count": 2,
     "metadata": {},
     "output_type": "execute_result"
    }
   ],
   "source": [
    "data(mtcars)\n",
    "mtc <- subset(mtcars, select=c(\"mpg\", \"cyl\", \"disp\", \"wt\", \"qsec\"))\n",
    "head(mtc)"
   ]
  },
  {
   "cell_type": "code",
   "execution_count": 3,
   "metadata": {
    "collapsed": false
   },
   "outputs": [
    {
     "ename": "ERROR",
     "evalue": "Error: No layers in plot\n",
     "output_type": "error",
     "traceback": [
      "Error: No layers in plot\n"
     ]
    }
   ],
   "source": [
    "library(ggplot2)\n",
    "g <- ggplot(mtc, aes(qsec))\n",
    "g"
   ]
  },
  {
   "cell_type": "code",
   "execution_count": 4,
   "metadata": {
    "collapsed": false
   },
   "outputs": [
    {
     "data": {
      "text/plain": []
     },
     "execution_count": 4,
     "metadata": {},
     "output_type": "execute_result"
    },
    {
     "data": {
      "image/png": "[encoded data removed]"
     },
     "metadata": {},
     "output_type": "display_data"
    }
   ],
   "source": [
    "# oops\n",
    "# nothing to show, because we didn't add a stat or a geom\n",
    "g + stat_bin(binwidth=1)"
   ]
  },
  {
   "cell_type": "code",
   "execution_count": 6,
   "metadata": {
    "collapsed": false
   },
   "outputs": [
    {
     "data": {
      "text/plain": []
     },
     "execution_count": 6,
     "metadata": {},
     "output_type": "execute_result"
    },
    {
     "data": {
      "image/png": "[encoded data removed]"
     },
     "metadata": {},
     "output_type": "display_data"
    }
   ],
   "source": [
    "# stat_bin automatically draws the bar geom\n",
    "# some stats and geoms are linked like this\n",
    "\n",
    "# what if we want to see qsec broken out by cyl?\n",
    "g <- ggplot(mtc, aes(qsec, fill=as.factor(cyl))) + stat_bin(binwidth=1)\n",
    "g"
   ]
  },
  {
   "cell_type": "code",
   "execution_count": null,
   "metadata": {
    "collapsed": true
   },
   "outputs": [],
   "source": [
    "# I converted cyl to a \"factor\" (a categorical variable)\n",
    "# so that it would interact nicely with the fill aesthetic"
   ]
  }
 ],
 "metadata": {
  "kernelspec": {
   "display_name": "R",
   "language": "",
   "name": "ir"
  },
  "language_info": {
   "codemirror_mode": "r",
   "file_extension": ".r",
   "mimetype": "text/x-r-source",
   "name": "R",
   "pygments_lexer": "r",
   "version": "3.1.3"
  }
 },
 "nbformat": 4,
 "nbformat_minor": 0
}
